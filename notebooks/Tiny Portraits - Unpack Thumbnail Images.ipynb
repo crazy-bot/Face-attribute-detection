{
 "cells": [
  {
   "cell_type": "markdown",
   "metadata": {},
   "source": [
    "## Tiny Portraits Project\n",
    "\n",
    "* A low-resource deep learning/computer vision dataset\n",
    "* Christian Bracher, Zalando Research\n",
    "* August-September 2021\n",
    "\n",
    "### Unpack image thumbnails from archives\n",
    "\n",
    "* This notebook is a utility to unpack the image archives stored on the GitHub repository\n",
    "* Each archive contains 2,048 thumbnails in PNG format, size 108 x 84 pixels\n",
    "* These image files are unpacked and extracted into a folder `Tiny_Portraits_Images`\n",
    "* Total number of archives: 66\n",
    "* Total number of image files: 134,734"
   ]
  },
  {
   "cell_type": "code",
   "execution_count": 1,
   "metadata": {},
   "outputs": [],
   "source": [
    "import numpy as np\n",
    "import os\n",
    "import zipfile"
   ]
  },
  {
   "cell_type": "markdown",
   "metadata": {},
   "source": [
    "### Image and ZIP locations\n",
    "\n",
    "* The ZIP archives are stored in a folder `Tiny_Portraits_Zipfiles`.<br>\n",
    "  They are consecutively numbered, with names of the format `Tiny_Portraits_Archive_nnn.zip`,\n",
    "  where `nnn` runs from `000` to `065`.\n",
    "* Face thumbnails in PNG format, size 108 x 84 pixels, will be placed in a sub-folder\n",
    "  `Tiny_Portraits_Images`.  It will be created if necessary. Their names are of the form:\n",
    "  `Tiny_Portraits_dddddd.png`, where `dddddd` refers to a source image name in the *CelebA* dataset, \n",
    "  but shifted by one:  `000001.jpg` begets `Tiny_Portraits_000000.png`, etc.\n",
    "  Note that numbers are **not** continuous, as only a subset of *CelebA* images has been processed."
   ]
  },
  {
   "cell_type": "code",
   "execution_count": 3,
   "metadata": {},
   "outputs": [],
   "source": [
    "thumbnail_directory = './Tiny_Portraits_Images/'\n",
    "zipfile_directory   = './Tiny_Portraits_Zip/'\n",
    "\n",
    "if not os.path.exists(thumbnail_directory):\n",
    "    os.mkdir(thumbnail_directory)"
   ]
  },
  {
   "cell_type": "markdown",
   "metadata": {},
   "source": [
    "#### Load archive information\n",
    "\n",
    "* There should be 66 ZIP archives with images."
   ]
  },
  {
   "cell_type": "code",
   "execution_count": 5,
   "metadata": {},
   "outputs": [],
   "source": [
    "# Load ordered list of archives\n",
    "archive_file_list  = [file for file in sorted(os.listdir(zipfile_directory))\n",
    "                      if file.split('.')[-1] == 'zip']\n",
    "archive_file_count = len(archive_file_list)\n",
    "\n",
    "# Check for completeness\n",
    "assert archive_file_count == 66"
   ]
  },
  {
   "cell_type": "markdown",
   "metadata": {},
   "source": [
    "### Extract image files from archives\n",
    "\n",
    "All contents are extracted to `thumbnail_directory`.  \n",
    "There should be a total of 134,734 images in PNG format."
   ]
  },
  {
   "cell_type": "code",
   "execution_count": null,
   "metadata": {},
   "outputs": [
    {
     "name": "stdout",
     "output_type": "stream",
     "text": [
      "Unzipping archive # 18 ... Total images #  38912"
     ]
    }
   ],
   "source": [
    "for index in range(0, archive_file_count):\n",
    "    \n",
    "    # Verify archive name\n",
    "    zip_archive_name = 'Tiny_Portraits_Archive_{:03d}.zip'.format(index)\n",
    "    assert archive_file_list[index] == zip_archive_name\n",
    "        \n",
    "    # Extract image files \n",
    "    with zipfile.ZipFile(zipfile_directory + zip_archive_name, 'r') as archive:\n",
    "        archive.extractall(thumbnail_directory)\n",
    "            \n",
    "    # Indicate progress\n",
    "    num_images = len([file for file in os.listdir(thumbnail_directory) if file.split('.')[-1] == 'png'])\n",
    "    print('\\rUnzipping archive #{:3d} ... Total images # {:6d}'.format(index, num_images), end = '')\n",
    "\n",
    "# Verify number of images\n",
    "assert num_images == 134734\n",
    "            \n",
    "print('\\n*** DONE ***')"
   ]
  },
  {
   "cell_type": "markdown",
   "metadata": {},
   "source": [
    "### Workbench"
   ]
  },
  {
   "cell_type": "code",
   "execution_count": null,
   "metadata": {},
   "outputs": [],
   "source": []
  }
 ],
 "metadata": {
  "kernelspec": {
   "display_name": "Python 3",
   "language": "python",
   "name": "python3"
  },
  "language_info": {
   "codemirror_mode": {
    "name": "ipython",
    "version": 3
   },
   "file_extension": ".py",
   "mimetype": "text/x-python",
   "name": "python",
   "nbconvert_exporter": "python",
   "pygments_lexer": "ipython3",
   "version": "3.7.7"
  }
 },
 "nbformat": 4,
 "nbformat_minor": 5
}
